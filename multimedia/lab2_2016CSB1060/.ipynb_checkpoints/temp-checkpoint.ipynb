{
 "cells": [
  {
   "cell_type": "markdown",
   "metadata": {},
   "source": [
    "# Q2"
   ]
  },
  {
   "cell_type": "code",
   "execution_count": 3,
   "metadata": {},
   "outputs": [
    {
     "data": {
      "image/png": "[encoded data removed]",
      "text/plain": [
       "<Figure size 432x288 with 1 Axes>"
      ]
     },
     "metadata": {
      "needs_background": "light"
     },
     "output_type": "display_data"
    },
    {
     "data": {
      "image/png": "[encoded data removed]",
      "text/plain": [
       "<Figure size 432x288 with 1 Axes>"
      ]
     },
     "metadata": {
      "needs_background": "light"
     },
     "output_type": "display_data"
    }
   ],
   "source": [
    "import matplotlib.pyplot as plt\n",
    "import numpy as np\n",
    "from scipy.fftpack import fft\n",
    "from scipy.fftpack import ifft\n",
    "\n",
    "Fs = 100\n",
    "for f in range(10):\n",
    "    x = np . arange ( Fs )\n",
    "    y = np.sin((2*np.pi*f*x*10)/Fs)\n",
    "\n",
    "    plt.plot((np.fft.fftfreq(Fs, 1.0/Fs)), np.abs(fft(y)))\n",
    "    plt.show()"
   ]
  },
  {
   "cell_type": "markdown",
   "metadata": {},
   "source": [
    "# Q3"
   ]
  },
  {
   "cell_type": "code",
   "execution_count": 68,
   "metadata": {},
   "outputs": [
    {
     "data": {
      "image/png": "[encoded data removed]",
      "text/plain": [
       "<Figure size 432x288 with 1 Axes>"
      ]
     },
     "metadata": {
      "needs_background": "light"
     },
     "output_type": "display_data"
    }
   ],
   "source": [
    "import sounddevice as sd\n",
    "import soundfile as sf\n",
    "from scipy.fftpack import fft\n",
    "import numpy as np\n",
    "\n",
    "filename = 'killbill.wav'\n",
    "data, fs = sf.read(filename, dtype='float32')\n",
    "\n",
    "y = []\n",
    "for i in data:\n",
    "    y.append(i[0])\n",
    "x = np.arange(len(y))\n",
    "\n",
    "plt.plot(np.abs(np.fft.fftfreq(len(y), 1.0/len(y))), fft(y))\n",
    "plt.show()"
   ]
  },
  {
   "cell_type": "markdown",
   "metadata": {},
   "source": [
    "# Report\n",
    "\n",
    "##"
   ]
  },
  {
   "cell_type": "markdown",
   "metadata": {},
   "source": [
    "# Q4"
   ]
  },
  {
   "cell_type": "code",
   "execution_count": 60,
   "metadata": {},
   "outputs": [],
   "source": [
    "import sounddevice as sd\n",
    "import soundfile as sf\n",
    "from scipy.fftpack import fft\n",
    "import numpy as np\n",
    "\n",
    "filename = 'male.wav'\n",
    "data, fs = sf.read(filename, dtype='float32')\n",
    "\n",
    "y = []\n",
    "for i in data:\n",
    "    y.append(i[0])\n",
    "x = np.arange(len(y))\n",
    "\n",
    "plt.plot(np.abs(np.fft.fftfreq(len(y), 1.0/len(y))), fft(y))\n",
    "plt.savefig('male')\n",
    "plt.close()\n",
    "\n",
    "# -----------------\n",
    "\n",
    "\n",
    "filename = 'female.wav'\n",
    "data, fs = sf.read(filename, dtype='float32')\n",
    "\n",
    "y = []\n",
    "for i in data:\n",
    "    y.append(i[0])\n",
    "x = np.arange(len(y))\n",
    "\n",
    "plt.plot(np.abs(np.fft.fftfreq(len(y), 1.0/len(y))), fft(y))\n",
    "plt.savefig('female')\n",
    "plt.close()"
   ]
  },
  {
   "cell_type": "markdown",
   "metadata": {},
   "source": [
    "# Report\n",
    "\n",
    "## Female voice has higher frequency as compared to male voice"
   ]
  },
  {
   "cell_type": "markdown",
   "metadata": {},
   "source": [
    "# Q5"
   ]
  },
  {
   "cell_type": "code",
   "execution_count": 64,
   "metadata": {},
   "outputs": [
    {
     "name": "stdout",
     "output_type": "stream",
     "text": [
      "wait for it\n"
     ]
    }
   ],
   "source": [
    "import sounddevice as sd\n",
    "import soundfile as sf\n",
    "from scipy.fftpack import fft\n",
    "import numpy as np\n",
    "\n",
    "filename = 'male.wav'\n",
    "data, fs = sf.read(filename, dtype='float32')\n",
    "\n",
    "y = []\n",
    "for i in data:\n",
    "    y.append(i[0])\n",
    "x = np.arange(len(y))\n",
    "\n",
    "plt.plot(np.abs(np.fft.fftfreq(len(y), 1.0/len(y))), fft(y))\n",
    "plt.savefig('speech')\n",
    "plt.close()\n",
    "\n",
    "# -----------------\n",
    "print(\"wait for it\")\n",
    "\n",
    "filename = 'music.wav'\n",
    "data, fs = sf.read(filename, dtype='float32')\n",
    "\n",
    "y = []\n",
    "for i in data:\n",
    "    y.append(i[0])\n",
    "x = np.arange(len(y))\n",
    "\n",
    "plt.plot(np.abs(np.fft.fftfreq(len(y), 1.0/len(y))), fft(y))\n",
    "plt.savefig('music')\n",
    "plt.close()"
   ]
  },
  {
   "cell_type": "markdown",
   "metadata": {},
   "source": [
    "# Report\n",
    "\n",
    "## Music has wide range of frequencies which speech doesn't have\n",
    "## As female voice has higher frequency range, so increasing frequency can change male voice to female and vice-versa"
   ]
  },
  {
   "cell_type": "code",
   "execution_count": null,
   "metadata": {},
   "outputs": [],
   "source": []
  }
 ],
 "metadata": {
  "kernelspec": {
   "display_name": "Python 3",
   "language": "python",
   "name": "python3"
  },
  "language_info": {
   "codemirror_mode": {
    "name": "ipython",
    "version": 3
   },
   "file_extension": ".py",
   "mimetype": "text/x-python",
   "name": "python",
   "nbconvert_exporter": "python",
   "pygments_lexer": "ipython3",
   "version": "3.5.2"
  }
 },
 "nbformat": 4,
 "nbformat_minor": 4
}
