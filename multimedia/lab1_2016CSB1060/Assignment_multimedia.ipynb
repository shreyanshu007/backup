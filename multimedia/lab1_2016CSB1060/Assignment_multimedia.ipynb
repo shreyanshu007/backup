{
 "cells": [
  {
   "cell_type": "markdown",
   "metadata": {},
   "source": [
    "# Cat Collage"
   ]
  },
  {
   "cell_type": "code",
   "execution_count": null,
   "metadata": {},
   "outputs": [],
   "source": [
    "import numpy as np \n",
    "import cv2 \n",
    " \n",
    "dim = (500, 500)\n",
    "    \n",
    "img1 = cv2.imread('cat1.jpg', 1)\n",
    "img2 = cv2.imread('cat2.jpg', 1)\n",
    "img3 = cv2.imread('cat3.jpg', 1)\n",
    "img4 = cv2.imread('cat4.jpg', 1)\n",
    "\n",
    "img1 = cv2.resize(img1, dim, interpolation = cv2.INTER_AREA)\n",
    "img2 = cv2.resize(img2, dim, interpolation = cv2.INTER_AREA)\n",
    "img3 = cv2.resize(img3, dim, interpolation = cv2.INTER_AREA)\n",
    "img4 = cv2.resize(img4, dim, interpolation = cv2.INTER_AREA)\n",
    "\n",
    "col_1 = np.vstack([img1, img2])\n",
    "col_2 = np.vstack([img3, img4])\n",
    "ver_img = np.hstack([col_1, col_2])\n",
    "\n",
    "cv2.imshow('image', ver_img)\n",
    "cv2.imwrite('output_cat_image.jpg',ver_img)\n",
    "cv2.waitKey(0)"
   ]
  },
  {
   "cell_type": "markdown",
   "metadata": {},
   "source": [
    "# Manipulated Alternate Second Audio"
   ]
  },
  {
   "cell_type": "code",
   "execution_count": 1,
   "metadata": {},
   "outputs": [],
   "source": [
    "import sounddevice as sd\n",
    "import soundfile as sf\n",
    "\n",
    "filename = 'sample_audio.wav'\n",
    "data, fs = sf.read(filename, dtype='float32')\n",
    "\n",
    "# Original Audio\n",
    "sd.play(data, fs)\n",
    "status = sd.wait(0)\n",
    "\n",
    "new_data = []\n",
    "\n",
    "for i in range(int(data.size/2)):\n",
    "    if (int(i/fs))%2 == 0:\n",
    "        new_data.append(data[i])\n",
    "                 \n",
    "# Edited Audio\n",
    "sd.play(new_data, fs)\n",
    "status = sd.wait(0)\n",
    "\n",
    "sf.write('output_audio.wav', new_data, fs)"
   ]
  },
  {
   "cell_type": "markdown",
   "metadata": {},
   "source": [
    "# Histogram of Top 10 most Occuring Word"
   ]
  },
  {
   "cell_type": "code",
   "execution_count": 3,
   "metadata": {},
   "outputs": [
    {
     "data": {
      "image/png": "[encoded data removed]",
      "text/plain": [
       "<Figure size 432x288 with 1 Axes>"
      ]
     },
     "metadata": {
      "needs_background": "light"
     },
     "output_type": "display_data"
    }
   ],
   "source": [
    "import nltk\n",
    "import matplotlib.pyplot as plt\n",
    "\n",
    "count = 0\n",
    "dict = {}\n",
    "with open('sample_text.txt','r') as f:\n",
    "    val = nltk.FreqDist(f.read().split()).most_common(10) \n",
    "    x = []\n",
    "    y = []\n",
    "    for item in val:\n",
    "        x.append(item[1])\n",
    "        y.append(item[0])\n",
    "\n",
    "    plt.bar(y ,height = x)\n",
    "    plt.ylabel('Occurance')\n"
   ]
  },
  {
   "cell_type": "code",
   "execution_count": null,
   "metadata": {},
   "outputs": [],
   "source": []
  }
 ],
 "metadata": {
  "kernelspec": {
   "display_name": "Python 3",
   "language": "python",
   "name": "python3"
  },
  "language_info": {
   "codemirror_mode": {
    "name": "ipython",
    "version": 3
   },
   "file_extension": ".py",
   "mimetype": "text/x-python",
   "name": "python",
   "nbconvert_exporter": "python",
   "pygments_lexer": "ipython3",
   "version": "3.5.2"
  }
 },
 "nbformat": 4,
 "nbformat_minor": 4
}
